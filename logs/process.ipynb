{
 "cells": [
  {
   "cell_type": "code",
   "execution_count": 65,
   "metadata": {},
   "outputs": [
    {
     "data": {
      "text/html": [
       "<div>\n",
       "<style scoped>\n",
       "    .dataframe tbody tr th:only-of-type {\n",
       "        vertical-align: middle;\n",
       "    }\n",
       "\n",
       "    .dataframe tbody tr th {\n",
       "        vertical-align: top;\n",
       "    }\n",
       "\n",
       "    .dataframe thead th {\n",
       "        text-align: right;\n",
       "    }\n",
       "</style>\n",
       "<table border=\"1\" class=\"dataframe\">\n",
       "  <thead>\n",
       "    <tr style=\"text-align: right;\">\n",
       "      <th></th>\n",
       "      <th>server_round</th>\n",
       "      <th>cid</th>\n",
       "      <th>loss</th>\n",
       "      <th>acc</th>\n",
       "      <th>train_time</th>\n",
       "      <th>data_size</th>\n",
       "      <th>delay</th>\n",
       "    </tr>\n",
       "  </thead>\n",
       "  <tbody>\n",
       "    <tr>\n",
       "      <th>0</th>\n",
       "      <td>1</td>\n",
       "      <td>2</td>\n",
       "      <td>1.847802</td>\n",
       "      <td>0.424426</td>\n",
       "      <td>605.404636</td>\n",
       "      <td>48820846</td>\n",
       "      <td>0.956640</td>\n",
       "    </tr>\n",
       "    <tr>\n",
       "      <th>1</th>\n",
       "      <td>1</td>\n",
       "      <td>3</td>\n",
       "      <td>1.942410</td>\n",
       "      <td>0.423522</td>\n",
       "      <td>569.397435</td>\n",
       "      <td>48820846</td>\n",
       "      <td>40.109233</td>\n",
       "    </tr>\n",
       "    <tr>\n",
       "      <th>2</th>\n",
       "      <td>2</td>\n",
       "      <td>3</td>\n",
       "      <td>1.448046</td>\n",
       "      <td>0.517212</td>\n",
       "      <td>622.363761</td>\n",
       "      <td>48820846</td>\n",
       "      <td>29.688950</td>\n",
       "    </tr>\n",
       "    <tr>\n",
       "      <th>3</th>\n",
       "      <td>2</td>\n",
       "      <td>0</td>\n",
       "      <td>1.397704</td>\n",
       "      <td>0.548691</td>\n",
       "      <td>423.597762</td>\n",
       "      <td>48820846</td>\n",
       "      <td>226.594901</td>\n",
       "    </tr>\n",
       "    <tr>\n",
       "      <th>4</th>\n",
       "      <td>2</td>\n",
       "      <td>2</td>\n",
       "      <td>1.328812</td>\n",
       "      <td>0.548419</td>\n",
       "      <td>646.890541</td>\n",
       "      <td>48820846</td>\n",
       "      <td>1.018964</td>\n",
       "    </tr>\n",
       "  </tbody>\n",
       "</table>\n",
       "</div>"
      ],
      "text/plain": [
       "   server_round  cid      loss       acc  train_time  data_size       delay\n",
       "0             1    2  1.847802  0.424426  605.404636   48820846    0.956640\n",
       "1             1    3  1.942410  0.423522  569.397435   48820846   40.109233\n",
       "2             2    3  1.448046  0.517212  622.363761   48820846   29.688950\n",
       "3             2    0  1.397704  0.548691  423.597762   48820846  226.594901\n",
       "4             2    2  1.328812  0.548419  646.890541   48820846    1.018964"
      ]
     },
     "execution_count": 65,
     "metadata": {},
     "output_type": "execute_result"
    }
   ],
   "source": [
    "import pandas as pd\n",
    "\n",
    "df = pd.read_csv('CIFAR10/clients.csv', names=['server_round', 'cid', 'loss', 'acc', 'train_time', 'data_size', 'delay'])\n",
    "df.head()"
   ]
  },
  {
   "cell_type": "code",
   "execution_count": 66,
   "metadata": {},
   "outputs": [
    {
     "name": "stdout",
     "output_type": "stream",
     "text": [
      "0.0\n",
      "36.007200956344604\n",
      "24.526779651641846\n",
      "223.29277849197388\n",
      "0.0\n",
      "216.0790491104126\n",
      "0.0\n",
      "225.86180138587952\n",
      "43.88845705986023\n",
      "154.6466805934906\n",
      "454.5020773410797\n",
      "633.4299509525299\n",
      "0.0\n",
      "540.5363955497742\n",
      "0.0\n",
      "660.5984306335449\n",
      "203.36430144309998\n",
      "558.0321226119995\n",
      "179.9543240070342\n",
      "660.3441812992096\n",
      "0.0\n"
     ]
    }
   ],
   "source": [
    "grouped    = df.groupby('server_round').max().reset_index()\n",
    "max_values = grouped['train_time'].values \n",
    "new_values = []\n",
    "for row in df.iterrows():\n",
    "    # print(row)\n",
    "    rnd   = row[1]['server_round'] - 1\n",
    "    train = row[1]['train_time']\n",
    "    print(max_values[int(rnd)] - train)\n",
    "    new_values.append( row[1]['delay'] - (max_values[int(rnd)] - train) )"
   ]
  },
  {
   "cell_type": "code",
   "execution_count": 67,
   "metadata": {},
   "outputs": [],
   "source": [
    "df['delay'] = new_values\n",
    "df = df[df['delay'] > 0]"
   ]
  },
  {
   "cell_type": "code",
   "execution_count": 68,
   "metadata": {},
   "outputs": [],
   "source": [
    "df.to_csv('clients_cifar.csv', index=False, header=False)"
   ]
  },
  {
   "cell_type": "code",
   "execution_count": null,
   "metadata": {},
   "outputs": [],
   "source": []
  }
 ],
 "metadata": {
  "kernelspec": {
   "display_name": "base",
   "language": "python",
   "name": "python3"
  },
  "language_info": {
   "codemirror_mode": {
    "name": "ipython",
    "version": 3
   },
   "file_extension": ".py",
   "mimetype": "text/x-python",
   "name": "python",
   "nbconvert_exporter": "python",
   "pygments_lexer": "ipython3",
   "version": "3.9.12"
  }
 },
 "nbformat": 4,
 "nbformat_minor": 2
}
